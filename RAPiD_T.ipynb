{
  "nbformat": 4,
  "nbformat_minor": 0,
  "metadata": {
    "colab": {
      "provenance": [],
      "gpuType": "T4"
    },
    "kernelspec": {
      "name": "python3",
      "display_name": "Python 3"
    },
    "language_info": {
      "name": "python"
    },
    "accelerator": "GPU"
  },
  "cells": [
    {
      "cell_type": "markdown",
      "source": [
        "## People Detection"
      ],
      "metadata": {
        "id": "UcDkTczbR3k1"
      }
    },
    {
      "cell_type": "code",
      "execution_count": 1,
      "metadata": {
        "colab": {
          "base_uri": "https://localhost:8080/"
        },
        "id": "TKDHOpe24Ybd",
        "outputId": "384acfe9-f9f7-4a22-cc07-0f2e0fd21ac8"
      },
      "outputs": [
        {
          "output_type": "stream",
          "name": "stdout",
          "text": [
            "Cloning into 'RAPiD-T'...\n",
            "remote: Enumerating objects: 398, done.\u001b[K\n",
            "remote: Counting objects: 100% (116/116), done.\u001b[K\n",
            "remote: Compressing objects: 100% (48/48), done.\u001b[K\n",
            "remote: Total 398 (delta 103), reused 68 (delta 68), pack-reused 282\u001b[K\n",
            "Receiving objects: 100% (398/398), 9.30 MiB | 27.60 MiB/s, done.\n",
            "Resolving deltas: 100% (217/217), done.\n"
          ]
        }
      ],
      "source": [
        "# Clone RAPiD-T respository for top view people detection\n",
        "!git clone https://github.com/ozantezcan/RAPiD-T.git"
      ]
    },
    {
      "cell_type": "code",
      "source": [
        "# Check GPU availability\n",
        "import torch\n",
        "\n",
        "if torch.cuda.is_available():\n",
        "    # If a GPU is available, set the device to GPU\n",
        "    device = torch.device(\"cuda\")\n",
        "    print(\"GPU is available\")\n",
        "else:\n",
        "    # If a GPU is not available, set the device to CPU\n",
        "    device = torch.device(\"cpu\")\n",
        "    print(\"GPU is not available\")"
      ],
      "metadata": {
        "colab": {
          "base_uri": "https://localhost:8080/"
        },
        "id": "gh9nh3p77hys",
        "outputId": "41a047e9-4fca-41a9-b704-bed88153e0f8"
      },
      "execution_count": 2,
      "outputs": [
        {
          "output_type": "stream",
          "name": "stdout",
          "text": [
            "GPU is available\n"
          ]
        }
      ]
    },
    {
      "cell_type": "code",
      "source": [
        "# Set Matplotlib Backend\n",
        "%matplotlib inline\n",
        "\n",
        "# Set Autoreload Extension\n",
        "%load_ext autoreload\n",
        "%autoreload 2\n",
        "\n",
        "# Set Working Directory\n",
        "import os\n",
        "os.chdir(\"/content/RAPiD-T\")\n",
        "\n",
        "# Import Libraries\n",
        "import matplotlib.pyplot as plt\n",
        "from PIL import Image\n",
        "import cv2\n",
        "import numpy as np\n",
        "import glob\n",
        "import json\n",
        "import time\n",
        "\n",
        "# Import Custom Modules\n",
        "from api import Detector\n",
        "from utils import visualization\n",
        "from utils import vid_utils as vid\n",
        "from utils import repp_rotated_api as repp"
      ],
      "metadata": {
        "id": "fWGDzX1j4mFu"
      },
      "execution_count": 3,
      "outputs": []
    },
    {
      "cell_type": "code",
      "source": [
        "# Download Weight File\n",
        "import gdown\n",
        "\n",
        "# Set the Google Drive file ID\n",
        "file_id = '10C4KQpS1wKeKGrT0_AL9d6dYb42hlI-L'\n",
        "\n",
        "# Set the destination path to save the downloaded file\n",
        "destination_path = os.path.join('weights', 'RAPiD.ckpt')\n",
        "\n",
        "# Download the file from Google Drive\n",
        "url = f'https://drive.google.com/uc?id={file_id}'\n",
        "gdown.download(url, destination_path)"
      ],
      "metadata": {
        "colab": {
          "base_uri": "https://localhost:8080/",
          "height": 105
        },
        "id": "zPVrxhql4yjf",
        "outputId": "304ccded-9170-452d-d010-3ad1ea53113a"
      },
      "execution_count": 4,
      "outputs": [
        {
          "output_type": "stream",
          "name": "stderr",
          "text": [
            "Downloading...\n",
            "From: https://drive.google.com/uc?id=10C4KQpS1wKeKGrT0_AL9d6dYb42hlI-L\n",
            "To: /content/RAPiD-T/weights/RAPiD.ckpt\n",
            "100%|██████████| 291M/291M [00:02<00:00, 120MB/s]\n"
          ]
        },
        {
          "output_type": "execute_result",
          "data": {
            "text/plain": [
              "'weights/RAPiD.ckpt'"
            ],
            "application/vnd.google.colaboratory.intrinsic+json": {
              "type": "string"
            }
          },
          "metadata": {},
          "execution_count": 4
        }
      ]
    },
    {
      "cell_type": "code",
      "source": [
        "# Download Weight Configuration File\n",
        "import gdown\n",
        "\n",
        "# Set the Google Drive file ID\n",
        "file_id = '1VpMCGI0K92dkBozhPXOj10tF4IlsJxBU'\n",
        "\n",
        "# Set the destination path to save the downloaded file\n",
        "destination_path = os.path.join('weights', 'matching_model_logreg_cepdof_dist5.pckl')\n",
        "\n",
        "# Download the file from Google Drive\n",
        "url = f'https://drive.google.com/uc?id={file_id}'\n",
        "gdown.download(url, destination_path)"
      ],
      "metadata": {
        "colab": {
          "base_uri": "https://localhost:8080/",
          "height": 105
        },
        "id": "jaZeFTpE72wI",
        "outputId": "cfd056ed-6ec7-4d4f-e9db-05b4107fb996"
      },
      "execution_count": 5,
      "outputs": [
        {
          "output_type": "stream",
          "name": "stderr",
          "text": [
            "Downloading...\n",
            "From: https://drive.google.com/uc?id=1VpMCGI0K92dkBozhPXOj10tF4IlsJxBU\n",
            "To: /content/RAPiD-T/weights/matching_model_logreg_cepdof_dist5.pckl\n",
            "100%|██████████| 979/979 [00:00<00:00, 4.63MB/s]\n"
          ]
        },
        {
          "output_type": "execute_result",
          "data": {
            "text/plain": [
              "'weights/matching_model_logreg_cepdof_dist5.pckl'"
            ],
            "application/vnd.google.colaboratory.intrinsic+json": {
              "type": "string"
            }
          },
          "metadata": {},
          "execution_count": 5
        }
      ]
    },
    {
      "cell_type": "code",
      "source": [
        "# Set Paths and Directories\n",
        "weights_path = \"weights/RAPiD.ckpt\"\n",
        "in_path = \"examples\"\n",
        "out_path = \"outputs/RAPiD_REPP\"\n",
        "os.makedirs(out_path, exist_ok=True)\n",
        "flow_warping = False\n",
        "\n",
        "# Initialize Detector Model\n",
        "# detector = Detector(model_name='rapid', weights_path=weights_path)\n",
        "\n",
        "# Load Bounding Box Association Model of REPP\n",
        "repp_cfg = \"utils/cepdof_repp_cfg.json\"\n",
        "repp_params = json.load(open(repp_cfg, 'r'))\n",
        "repp_model = repp.REPP(**repp_params)"
      ],
      "metadata": {
        "colab": {
          "base_uri": "https://localhost:8080/"
        },
        "id": "ehsiPBFS6pfp",
        "outputId": "7c3dc00e-3583-4da7-c358-c89f3c8b5c64"
      },
      "execution_count": 6,
      "outputs": [
        {
          "output_type": "stream",
          "name": "stdout",
          "text": [
            "Loading clf matching model: ./weights/matching_model_logreg_cepdof_dist5.pckl\n"
          ]
        },
        {
          "output_type": "stream",
          "name": "stderr",
          "text": [
            "/usr/local/lib/python3.10/dist-packages/sklearn/base.py:318: UserWarning: Trying to unpickle estimator LogisticRegression from version 0.22 when using version 1.2.2. This might lead to breaking code or invalid results. Use at your own risk. For more info please refer to:\n",
            "https://scikit-learn.org/stable/model_persistence.html#security-maintainability-limitations\n",
            "  warnings.warn(\n"
          ]
        }
      ]
    },
    {
      "cell_type": "code",
      "source": [
        "# Extract Frames from video clip\n",
        "import os\n",
        "import cv2\n",
        "\n",
        "# Path to the input video file\n",
        "video_path = '/content/sample.mp4'\n",
        "\n",
        "# Extract the video name without extension\n",
        "video_name = os.path.splitext(os.path.basename(video_path))[0]\n",
        "\n",
        "# Open the video file\n",
        "video = cv2.VideoCapture(video_path)\n",
        "\n",
        "# Create a directory to save the frames\n",
        "frame_output_directory = f'{in_path}/{video_name}'\n",
        "os.makedirs(frame_output_directory, exist_ok=True)\n",
        "\n",
        "# Initialize variables\n",
        "frame_count = 1\n",
        "\n",
        "# Read frames from the video\n",
        "while True:\n",
        "    # Read the next frame\n",
        "    ret, frame = video.read()\n",
        "\n",
        "    # Break the loop if there are no more frames\n",
        "    if not ret:\n",
        "        break\n",
        "\n",
        "    # Generate the output filename\n",
        "    output_framename = f\"{video_name}_{frame_count:06d}.png\"\n",
        "    frame_output_path = os.path.join(frame_output_directory, output_framename)\n",
        "\n",
        "    # Save the frame as an image file\n",
        "    cv2.imwrite(frame_output_path, frame)\n",
        "\n",
        "    # Increment the frame count\n",
        "    frame_count += 1\n",
        "\n",
        "# Release the video file\n",
        "video.release()"
      ],
      "metadata": {
        "id": "wTc9z_V-9RAo"
      },
      "execution_count": 7,
      "outputs": []
    },
    {
      "cell_type": "code",
      "source": [
        "# Set video name to detect\n",
        "video_names_detect = [video_name]"
      ],
      "metadata": {
        "id": "rOnmlOay8I6C"
      },
      "execution_count": 8,
      "outputs": []
    },
    {
      "cell_type": "code",
      "source": [
        "# Unpickle the detection results from the Files\n",
        "import pickle\n",
        "\n",
        "# Unpickle dets_repp\n",
        "with open('/content/dets_repp.pkl', 'rb') as file:\n",
        "    dets_repp = pickle.load(file)\n",
        "\n",
        "# Unpickle dets_arr\n",
        "with open('/content/dets_arr.pkl', 'rb') as file:\n",
        "    dets_arr = pickle.load(file)\n",
        "\n",
        "# Unpickle dets_dict\n",
        "with open('/content/dets_dict.pkl', 'rb') as file:\n",
        "    dets_dict = pickle.load(file)\n"
      ],
      "metadata": {
        "id": "r_0Xh2PcxRAI"
      },
      "execution_count": 10,
      "outputs": []
    },
    {
      "cell_type": "code",
      "source": [
        "vid_conf = 0.3\n",
        "\n",
        "# Create directories\n",
        "os.makedirs(os.path.join(out_path, \"txts\"), exist_ok=True)\n",
        "os.makedirs(os.path.join(out_path, \"jsons\"), exist_ok=True)\n",
        "os.makedirs(os.path.join(out_path, f\"vids/conf{vid_conf}\"), exist_ok=True)\n",
        "\n",
        "# Process videos\n",
        "for vid_name in video_names_detect:\n",
        "    print(f\"Processing {vid_name}\")\n",
        "    vid_folder = os.path.join(in_path, vid_name)\n",
        "    txt_det_folder = os.path.join(out_path, \"txts\", vid_name)\n",
        "    json_det_path = os.path.join(out_path, \"jsons\", f\"{vid_name}_dets.json\")\n",
        "\n",
        "    # Compute detections\n",
        "    print(\"Computing detections...\")\n",
        "    tic = time.perf_counter()\n",
        "    # vid.saveDets(\n",
        "    #     detector,\n",
        "    #     vid_folder,\n",
        "    #     txt_det_folder,\n",
        "    # )\n",
        "\n",
        "    # Convert detections from txt to json\n",
        "    # dets_arr = vid.txt2json(txt_det_folder, save_as_json=False)\n",
        "\n",
        "    # REPP post-processing\n",
        "    print(\"Post-processing with REPP...\")\n",
        "    # dets_dict = repp.det_arr_to_det_dict(dets_arr,root_dir_frames='/content/RAPiD-T/examples')\n",
        "    # dets_repp = repp_model(dets_dict)\n",
        "    json.dump(dets_repp, open(json_det_path, 'w'), indent=4)\n",
        "    toc = time.perf_counter()\n",
        "    elapsed = toc - tic\n",
        "    num_frames = len(os.listdir(vid_folder))\n",
        "    fps = num_frames / elapsed\n",
        "    print(f\"Computed detections of {num_frames} frames in {elapsed:0.4f} seconds: {fps:0.4f} FPS\")\n",
        "\n",
        "    # Produce a video of detections\n",
        "    print(\"Creating video...\")\n",
        "    im2dets = vid.json2dict(json_det_path)\n",
        "    im2dets_arr = [(im2dets, (0, 255, 0), False, vid_conf)]\n",
        "    vid_path = os.path.join(out_path, f\"vids/conf{vid_conf}\", f\"{vid_name}_dets.mp4\")\n",
        "    vid.saveVideo(vid_folder, im2dets_arr, vid_path)\n",
        "\n",
        "print(\"DONE!\")"
      ],
      "metadata": {
        "colab": {
          "base_uri": "https://localhost:8080/"
        },
        "id": "SJz0QCMb8iMP",
        "outputId": "afce520a-99f3-4549-8a0d-bce654686aa3"
      },
      "execution_count": 11,
      "outputs": [
        {
          "output_type": "stream",
          "name": "stdout",
          "text": [
            "Processing sample\n",
            "Computing detections...\n",
            "Post-processing with REPP...\n",
            "Computed detections of 1341 frames in 0.2627 seconds: 5104.3559 FPS\n",
            "Creating video...\n",
            "DONE!\n"
          ]
        }
      ]
    },
    {
      "cell_type": "code",
      "source": [
        "# # Pickle the detection results\n",
        "# import pickle\n",
        "\n",
        "# # Pickle dets_arr\n",
        "# with open('dets_arr.pkl', 'wb') as file:\n",
        "#     pickle.dump(dets_arr, file)\n",
        "\n",
        "# # Pickle dets_repp\n",
        "# with open('dets_repp.pkl', 'wb') as file:\n",
        "#     pickle.dump(dets_repp, file)\n",
        "\n",
        "# # Pickle dets_dict\n",
        "# with open('dets_dict.pkl', 'wb') as file:\n",
        "#     pickle.dump(dets_dict, file)"
      ],
      "metadata": {
        "id": "EtQyrM7gOok5"
      },
      "execution_count": null,
      "outputs": []
    },
    {
      "cell_type": "code",
      "source": [
        "# Access dets_arr\n",
        "print(dets_arr[:5])"
      ],
      "metadata": {
        "colab": {
          "base_uri": "https://localhost:8080/"
        },
        "id": "-oYJp6XmxeAI",
        "outputId": "9880db5b-ab4a-49f2-9915-f8f43e601612"
      },
      "execution_count": null,
      "outputs": [
        {
          "output_type": "stream",
          "name": "stdout",
          "text": [
            "[{'image_id': 'sample_000001', 'bbox': [273.79705811, 186.10665894, 74.75085449, 110.16432953, -12.00547791], 'score': 0.86502004, 'segmentation': []}, {'image_id': 'sample_000001', 'bbox': [234.7376709, 97.52936554, 63.04268265, 93.77900696, 91.55895996], 'score': 0.60139126, 'segmentation': []}, {'image_id': 'sample_000001', 'bbox': [185.24234009, 124.45947266, 63.88580704, 89.62056732, -21.63174438], 'score': 0.57365412, 'segmentation': []}, {'image_id': 'sample_000001', 'bbox': [739.34631348, 200.67448425, 78.90244293, 98.00880432, 46.91586304], 'score': 0.41085798, 'segmentation': []}, {'image_id': 'sample_000001', 'bbox': [572.12750244, 24.49600601, 32.74517441, 44.16998291, -13.18643188], 'score': 0.34200478, 'segmentation': []}]\n"
          ]
        }
      ]
    },
    {
      "cell_type": "code",
      "source": [
        "# Access dets_dict\n",
        "first_frame = dets_dict[next(iter(dets_dict))]\n",
        "print(first_frame)"
      ],
      "metadata": {
        "colab": {
          "base_uri": "https://localhost:8080/"
        },
        "id": "LajlTLt5yb_O",
        "outputId": "4bf39d03-2f5f-4f20-de46-75df7d1db1d3"
      },
      "execution_count": null,
      "outputs": [
        {
          "output_type": "stream",
          "name": "stdout",
          "text": [
            "[{'image_id': 'sample_000001', 'bbox': [236.42163086500003, 131.02449417499997, 74.75085449, 110.16432953, -12.00547791], 'bbox_center': [0.28520526886458336, 0.25848147075], 'scores': array([0.72561316])}, {'image_id': 'sample_000001', 'bbox': [203.216329575, 50.63986206, 63.04268265, 93.77900696, -88.44104004], 'bbox_center': [0.2445184071875, 0.13545745213888888], 'scores': array([0.48992308])}, {'image_id': 'sample_000001', 'bbox': [153.29943657, 79.649189, 63.88580704, 89.62056732, -21.63174438], 'bbox_center': [0.19296077092708333, 0.17286037869444446], 'scores': array([0.67651496])}, {'image_id': 'sample_000001', 'bbox': [699.895092015, 151.67008209, 78.90244293, 98.00880432, 46.91586304], 'bbox_center': [0.770152409875, 0.27871456145833334], 'scores': array([0.57457844])}, {'image_id': 'sample_000001', 'bbox': [555.754915235, 2.4110145549999977, 32.74517441, 44.16998291, -13.18643188], 'bbox_center': [0.595966148375, 0.034022230569444444], 'scores': array([0.39506643])}, {'image_id': 'sample_000001', 'bbox': [595.990940095, 285.76524353, 100.47197723, 136.4437561, 2.79570007], 'bbox_center': [0.6731530507395834, 0.4916487799722222], 'scores': [0.32548431]}, {'image_id': 'sample_000001', 'bbox': [572.487426755, 639.896837235, 48.59130859, 63.92287827, -84.6076355], 'bbox_center': [0.6216490427604167, 0.9331364949583333], 'scores': [0.30707079]}]\n"
          ]
        }
      ]
    },
    {
      "cell_type": "code",
      "source": [
        "# Access dets_repp\n",
        "print(dets_repp[:5])"
      ],
      "metadata": {
        "colab": {
          "base_uri": "https://localhost:8080/"
        },
        "id": "eKyb30OKyc4s",
        "outputId": "b185f75e-228d-484a-d232-5eee878f1588"
      },
      "execution_count": null,
      "outputs": [
        {
          "output_type": "stream",
          "name": "stdout",
          "text": [
            "[{'image_id': 'sample_000001', 'bbox': [572.12750244, 24.49600601, 32.74517441, 44.16998291, -13.18643188], 'score': 0.39506643277777775, 'segmentation': [], 'track_id': 0}, {'image_id': 'sample_000002', 'bbox': [572.30090332, 24.42091942, 33.02849579, 44.16041565, -13.53503418], 'score': 0.39506643277777775, 'segmentation': [], 'track_id': 0}, {'image_id': 'sample_000003', 'bbox': [572.43005371, 24.85772705, 33.35123062, 44.35451126, -14.49906921], 'score': 0.39506643277777775, 'segmentation': [], 'track_id': 0}, {'image_id': 'sample_000004', 'bbox': [573.47406006, 25.32246971, 33.52073669, 45.4034729, -12.83825684], 'score': 0.39506643277777775, 'segmentation': [], 'track_id': 0}, {'image_id': 'sample_000005', 'bbox': [573.48950195, 25.42821312, 33.59351349, 45.73729706, -12.49168396], 'score': 0.39506643277777775, 'segmentation': [], 'track_id': 0}]\n"
          ]
        }
      ]
    },
    {
      "cell_type": "code",
      "source": [
        "# Access im2dets\n",
        "first_frame = im2dets['sample_000001']\n",
        "for blob in first_frame:\n",
        "  print(blob)"
      ],
      "metadata": {
        "colab": {
          "base_uri": "https://localhost:8080/"
        },
        "id": "bIA1YgRak4px",
        "outputId": "10625517-9b40-47f8-d8c6-7e33f652a3f4"
      },
      "execution_count": null,
      "outputs": [
        {
          "output_type": "stream",
          "name": "stdout",
          "text": [
            "[ 5.72127502e+02  2.44960060e+01  3.27451744e+01  4.41699829e+01\n",
            " -1.31864319e+01  3.95066433e-01]\n",
            "[273.79705811 186.10665894  74.75085449 110.16432953 -12.00547791\n",
            "   0.72561316]\n",
            "[185.24234009 124.45947266  63.88580704  89.62056732 -21.63174438\n",
            "   0.67651496]\n",
            "[234.7376709   97.52936554  63.04268265  93.77900696 -88.44104004\n",
            "   0.48992308]\n",
            "[7.39346313e+02 2.00674484e+02 7.89024429e+01 9.80088043e+01\n",
            " 4.69158630e+01 5.74578438e-01]\n"
          ]
        }
      ]
    },
    {
      "cell_type": "markdown",
      "source": [
        "## ROI Filtration"
      ],
      "metadata": {
        "id": "LqTp-BzESyKJ"
      }
    },
    {
      "cell_type": "code",
      "source": [
        "# Convert detection result into dictionary with IDs\n",
        "''' key= frame_id\n",
        "    value= [x,y,w,h,a,score,track_id]) '''\n",
        "\n",
        "def json2dictwithids (json_path, include_ids=True):\n",
        "    with open(json_path) as f:\n",
        "        detections = json.load(f)\n",
        "\n",
        "    if \"annotations\" in detections:\n",
        "        detections = detections[\"annotations\"]\n",
        "\n",
        "    im2detswithids = {}\n",
        "    for det in detections:\n",
        "        image_id = det['image_id']\n",
        "        bbox = det['bbox'].copy()\n",
        "        score = det['score'] if 'score' in det else 0.0\n",
        "        bbox.append(score)\n",
        "        if include_ids:\n",
        "            assert 'person_id' in det or 'track_id' in det\n",
        "            if 'person_id' in det:\n",
        "                bbox.append(det['person_id'])\n",
        "            elif 'track_id' in det:\n",
        "                bbox.append(det['track_id'])\n",
        "        bbox = np.asarray(bbox)\n",
        "        if image_id in im2detswithids:\n",
        "            im2detswithids[image_id].append(bbox)\n",
        "        else:\n",
        "            im2detswithids[image_id] = [bbox]\n",
        "\n",
        "    return im2detswithids\n",
        "\n",
        "im2detsids = json2dictwithids(json_det_path)"
      ],
      "metadata": {
        "id": "4LKveDiRg1C-"
      },
      "execution_count": 12,
      "outputs": []
    },
    {
      "cell_type": "code",
      "source": [
        "# Access im2detsids (value= [x,y,w,h,a,score,track_id]\n",
        "first_frame = im2detsids['sample_001341']\n",
        "for blob in first_frame:\n",
        "  print(blob)"
      ],
      "metadata": {
        "colab": {
          "base_uri": "https://localhost:8080/"
        },
        "id": "z2sFUNqXa4Il",
        "outputId": "162cd5af-bc59-4417-cdbf-eab82cd7d575"
      },
      "execution_count": 13,
      "outputs": [
        {
          "output_type": "stream",
          "name": "stdout",
          "text": [
            "[7.22906555e+02 6.26864807e+02 5.35893288e+01 6.12247734e+01\n",
            " 1.54465027e+01 4.75893932e-01 8.43000000e+02]\n",
            "[7.34682678e+02 3.52833557e+02 9.41006622e+01 1.24513947e+02\n",
            " 8.00172119e+01 6.89863760e-01 8.48000000e+02]\n",
            "[2.90869080e+02 1.16701126e+02 7.75704040e+01 9.53975601e+01\n",
            " 4.65503540e+01 6.85683189e-01 8.51000000e+02]\n",
            "[ 5.95916443e+02  6.86283020e+02  5.78484497e+01  6.75220871e+01\n",
            " -8.31721497e+00  5.57896336e-01  8.54000000e+02]\n",
            "[2.62843994e+02 6.25418457e+02 7.64635696e+01 1.10201775e+02\n",
            " 3.33659515e+01 3.70580805e-01 8.55000000e+02]\n",
            "[ 3.37200592e+02  1.57496307e+02  6.46712570e+01  8.29854202e+01\n",
            " -1.51859283e+01  4.85693308e-01  8.58000000e+02]\n",
            "[ 7.56066589e+02  4.61597961e+02  4.38941688e+01  8.34939270e+01\n",
            " -8.01041870e+01  3.25661020e-01  8.63000000e+02]\n",
            "[ 2.50876694e+02  1.71599442e+02  6.63041992e+01  8.92819595e+01\n",
            " -3.62071838e+01  5.04521920e-01  8.64000000e+02]\n"
          ]
        }
      ]
    },
    {
      "cell_type": "code",
      "source": [
        "# Extract ROI based on detection result\n",
        "from google.colab.patches import cv2_imshow\n",
        "\n",
        "def extract_roi(im, x, y, w, h, angle):\n",
        "    '''\n",
        "    im: image numpy array, shape(h, w, 3), RGB\n",
        "    angle: degree\n",
        "    '''\n",
        "    c, s = np.cos(angle/180*np.pi), np.sin(angle/180*np.pi)\n",
        "    R = np.asarray([[c, s], [-s, c]])\n",
        "    pts = np.asarray([[-w/2, -h/2], [w/2, -h/2], [w/2, h/2], [-w/2, h/2]])\n",
        "    rot_pts = []\n",
        "    for pt in pts:\n",
        "        rot_pts.append(([x, y] + pt @ R).astype(int))\n",
        "    contours = np.array([rot_pts[0], rot_pts[1], rot_pts[2], rot_pts[3]])\n",
        "    # Create a blank mask of the same size as the image\n",
        "    mask = np.zeros_like(im)\n",
        "    # Draw the contours on the mask\n",
        "    cv2.fillPoly(mask, [contours], (255, 255, 255))\n",
        "    # Bitwise AND operation to extract the ROI\n",
        "    roi = cv2.bitwise_and(im, mask)\n",
        "    return roi"
      ],
      "metadata": {
        "id": "AdKpNOm1Y8LV"
      },
      "execution_count": 14,
      "outputs": []
    },
    {
      "cell_type": "code",
      "source": [
        "# Find and filter contours\n",
        "import cv2\n",
        "import numpy as np\n",
        "from google.colab.patches import cv2_imshow\n",
        "\n",
        "def detect_nametag(roi,width,height,center_x,center_y):\n",
        "    '''\n",
        "    roi: image numpy array of the region of interest (BGR format)\n",
        "    width, height: width and height of the region of interest\n",
        "    center_x, center_y: coordinates of the center of the region of interest\n",
        "    '''\n",
        "\n",
        "    # Convert the ROI to the HSV color space\n",
        "    hsv_roi = cv2.cvtColor(roi, cv2.COLOR_BGR2HSV)\n",
        "    #cv2_imshow(hsv_roi)\n",
        "\n",
        "    # Define the lower and upper thresholds for the nametag color\n",
        "    white_lower_threshold = np.array([80, 0, 100])\n",
        "    white_upper_threshold = np.array([110, 50, 200])\n",
        "\n",
        "    black_lower_threshold = np.array([80, 150, 50])\n",
        "    black_upper_threshold = np.array([110, 250, 100])\n",
        "\n",
        "    # Apply color thresholding to extract the nametag\n",
        "    white_nametag_mask = cv2.inRange(hsv_roi, white_lower_threshold, white_upper_threshold)\n",
        "    black_nametag_mask = cv2.inRange(hsv_roi, black_lower_threshold, black_upper_threshold)\n",
        "\n",
        "    # Apply the logical OR operation\n",
        "    nametag_mask = cv2.bitwise_or(white_nametag_mask, black_nametag_mask)\n",
        "\n",
        "    # Apply morphological operations to improve the mask\n",
        "    kernel = cv2.getStructuringElement(cv2.MORPH_ELLIPSE, (5, 5))\n",
        "    nametag_mask = cv2.morphologyEx(nametag_mask, cv2.MORPH_CLOSE, kernel)\n",
        "    # cv2_imshow(nametag_mask)\n",
        "\n",
        "    # Find contours of the nametag\n",
        "    contours, _ = cv2.findContours(nametag_mask, cv2.RETR_EXTERNAL, cv2.CHAIN_APPROX_SIMPLE)\n",
        "\n",
        "    # Filter and identify the nametag contours\n",
        "    nametag_contours = []\n",
        "    for contour in contours:\n",
        "        contour_area = cv2.contourArea(contour)\n",
        "        x, y, w, h = cv2.boundingRect(contour)\n",
        "        aspect_ratio = float(w) / h\n",
        "        roi_area = (width*height)*0.20\n",
        "        roi_width = width*0.25\n",
        "        roi_height = height*0.25\n",
        "        perimeter = cv2.arcLength(contour,True)\n",
        "        approx = cv2.approxPolyDP(contour, 0.02 * perimeter, True)\n",
        "        poly = len(approx)\n",
        "\n",
        "        if contour_area > 6 and contour_area < 70 and w>5 and w<20 and h>2 and h<8 and aspect_ratio>1.60 and aspect_ratio<3 and w<=roi_width and h<=roi_height and (center_x-roi_width)<x and (center_x+roi_width)>x and (center_y+roi_height)>y and (center_y-roi_height)<y and perimeter>5 and perimeter <42 and poly>9 and poly<13:\n",
        "            nametag_contours.append(contour)\n",
        "\n",
        "    return nametag_contours"
      ],
      "metadata": {
        "id": "0Bo4eKE35yQe"
      },
      "execution_count": 15,
      "outputs": []
    },
    {
      "cell_type": "code",
      "source": [
        "# Compare the histograms using the correlation method\n",
        "def compare_histograms(hist1, hist2):\n",
        "    similarity = cv2.compareHist(hist1, hist2, cv2.HISTCMP_CORREL)\n",
        "    return similarity"
      ],
      "metadata": {
        "id": "jiR0aax42OC9"
      },
      "execution_count": 16,
      "outputs": []
    },
    {
      "cell_type": "code",
      "source": [
        "# Load reference histogram\n",
        "with open('/content/reference_hist.pkl', 'rb') as file:\n",
        "    reference_hist = pickle.load(file)"
      ],
      "metadata": {
        "id": "9Kd_qHK1XV3m"
      },
      "execution_count": 19,
      "outputs": []
    },
    {
      "cell_type": "code",
      "source": [
        "# Extract roi and find contours of the frame\n",
        "directory = '/content/RAPiD-T/examples/sample'\n",
        "tag_directory = '/content/ROI'\n",
        "os.makedirs(tag_directory, exist_ok=True)\n",
        "hists=[]\n",
        "\n",
        "for frame in os.listdir(directory):\n",
        "  if frame.endswith(('.jpg', '.jpeg', '.png')):\n",
        "    frame_path = os.path.join(directory, frame)\n",
        "    frame_name = os.path.splitext(frame)[0]\n",
        "    # print(frame_name)\n",
        "    curr_frame = cv2.imread(frame_path)\n",
        "    dects = im2detsids.get(frame_name,[])\n",
        "\n",
        "    for dect in dects:\n",
        "      x, y, w, h, angle, score, id = dect\n",
        "      x, y, w, h, angle= map(int, dect[:5])\n",
        "\n",
        "      roi_ppl = extract_roi(curr_frame, x, y, w, h, angle)\n",
        "      nametag_contours = detect_nametag(roi_ppl,w,h,x,y)\n",
        "      contours_count = len(nametag_contours)\n",
        "\n",
        "      if contours_count >=1:\n",
        "\n",
        "        # # Display the contour\n",
        "        # mask = np.zeros_like(curr_frame)\n",
        "        # # Draw the nametag contours on the ROI image for visualization\n",
        "        # cv2.drawContours(mask, nametag_contours, -1, (255, 255, 255), thickness=cv2.FILLED)\n",
        "        # # Define a kernel for dilation\n",
        "        # kernel = np.ones((30, 30), np.uint8)\n",
        "        # # Perform dilation to enhance the area of the contours\n",
        "        # enhanced_mask = cv2.dilate(mask, kernel, iterations=1)\n",
        "        # # Apply the enhanced mask to the original image\n",
        "        # result = cv2.bitwise_and(curr_frame, enhanced_mask)\n",
        "        # # Display the result\n",
        "        # cv2_imshow(result)\n",
        "\n",
        "        for contour in nametag_contours:\n",
        "          x, y, w, h = cv2.boundingRect(contour)\n",
        "\n",
        "          # Extract the contours and compare its histogram with reference histogram\n",
        "          roi = curr_frame[y:y+h, x:x+w]\n",
        "          hsv_roi = cv2.cvtColor(roi, cv2.COLOR_BGR2HSV)\n",
        "          hist = cv2.calcHist([hsv_roi], [1,2], None, [128]*2, [0, 128]*2)\n",
        "          similarity = compare_histograms(hist,np.array(reference_hist))\n",
        "\n",
        "          if similarity <= (-0.001) or similarity>=0.9:\n",
        "              idstr = str(id)\n",
        "              idstr = idstr.split('.')[0]\n",
        "              tag_filename = f\"{frame_name}_{idstr}.png\"\n",
        "              tag_path = os.path.join(tag_directory, tag_filename)\n",
        "              cv2.imwrite(tag_path, roi_ppl)"
      ],
      "metadata": {
        "id": "cPAgwKJNrJNp"
      },
      "execution_count": 20,
      "outputs": []
    },
    {
      "cell_type": "markdown",
      "source": [
        "## Creating Video"
      ],
      "metadata": {
        "id": "1MFg-zEgMNMw"
      }
    },
    {
      "cell_type": "code",
      "source": [
        "# Convert detected roi with nametag to dictionary (key:frame id value=track id)\n",
        "import os\n",
        "\n",
        "# Specify the path to the directory\n",
        "tag_directory = \"/content/ROI\"\n",
        "\n",
        "# Get the list of files in the directory\n",
        "files = os.listdir(tag_directory)\n",
        "\n",
        "# Build the dictionary based on file names\n",
        "id_dict = {}\n",
        "for filename in files:\n",
        "    # Extract the file name without the extension\n",
        "    name = os.path.splitext(filename)[0]\n",
        "    frame_id= name.split(\"_\")\n",
        "    frame_name=frame_id[1]\n",
        "    id=frame_id[-1]\n",
        "\n",
        "    # Add the file name to the dictionary\n",
        "    if frame_name in id_dict:\n",
        "      id_dict[frame_name].append(id)\n",
        "    else:\n",
        "      id_dict[frame_name] = [id]\n",
        "\n",
        "# Print the dictionary\n",
        "print(id_dict)"
      ],
      "metadata": {
        "colab": {
          "base_uri": "https://localhost:8080/"
        },
        "id": "ZFQmbKx0z2ut",
        "outputId": "5b6f2317-2348-4d3e-99c8-3a596492650c"
      },
      "execution_count": 22,
      "outputs": [
        {
          "output_type": "stream",
          "name": "stdout",
          "text": [
            "{'000929': ['578'], '000411': ['261'], '001121': ['685'], '000097': ['69'], '001228': ['777'], '000782': ['480'], '000973': ['598'], '000330': ['197'], '000327': ['197'], '001157': ['720'], '000974': ['598'], '000662': ['437'], '000537': ['345'], '001285': ['781'], '001333': ['848'], '001158': ['720'], '001296': ['808'], '000631': ['397'], '001246': ['690'], '000895': ['554'], '001062': ['658'], '001019': ['627'], '001067': ['568'], '001014': ['627'], '000813': ['452'], '001338': ['848'], '000444': ['299', '179'], '000806': ['480'], '000590': ['337'], '000976': ['598'], '000494': ['324'], '000414': ['283'], '000894': ['554'], '001066': ['568'], '000781': ['480'], '000708': ['458'], '001061': ['658'], '000640': ['419'], '000525': ['337'], '000413': ['283'], '000526': ['352', '357'], '001060': ['658'], '000617': ['337'], '000509': ['343'], '001130': ['674'], '001221': ['746'], '000726': ['462'], '000812': ['452'], '000454': ['306'], '001063': ['658'], '000497': ['257'], '000379': ['254'], '000926': ['578'], '001064': ['658'], '000927': ['578'], '000523': ['345'], '000496': ['257'], '000990': ['480'], '000613': ['337'], '000046': ['35'], '000408': ['282'], '000204': ['138'], '000328': ['197'], '000329': ['197'], '001219': ['746'], '000900': ['554', '551'], '000670': ['257'], '000536': ['345'], '001020': ['627'], '000636': ['419'], '001015': ['627'], '001163': ['720'], '000299': ['197'], '000719': ['462'], '000993': ['568'], '000720': ['462'], '000975': ['598'], '001253': ['777'], '000815': ['452'], '000639': ['257'], '000814': ['452'], '000898': ['554'], '000913': ['569'], '000045': ['35'], '001224': ['746'], '001220': ['746'], '001160': ['720'], '001021': ['568'], '001169': ['731']}\n"
          ]
        }
      ]
    },
    {
      "cell_type": "code",
      "source": [
        "# Create video by drawing the bounding box around detection results\n",
        "def saveVideo(vid_folder, im2boxes_arr, out_path, img_ext=\".png\", show_count=False, show_id=False, fps=24, out_size=None):\n",
        "    frames = set()\n",
        "    for im2boxes, _, _, _ in im2boxes_arr:\n",
        "        frames = frames.union(set(im2boxes.keys()))\n",
        "    frames = sorted(list(frames))\n",
        "    if out_size is None:\n",
        "        image_path = os.path.join(vid_folder, f\"{frames[0]}{img_ext}\")\n",
        "        img = Image.open(image_path)\n",
        "        np_img = np.array(img)\n",
        "        h, w, _ = np_img.shape\n",
        "    else:\n",
        "        w, h = out_size\n",
        "        ratio = h / w\n",
        "\n",
        "    vid = cv2.VideoWriter(\n",
        "        out_path, cv2.VideoWriter_fourcc(*'MP4V'), fps, (w, h))\n",
        "\n",
        "    for frame in frames:\n",
        "        image_path = os.path.join(vid_folder, f\"{frame}{img_ext}\")\n",
        "        if not os.path.exists(image_path):\n",
        "            print(f\"{image_path} does not exist\")\n",
        "            continue\n",
        "\n",
        "        img = Image.open(image_path)\n",
        "        np_img = np.array(img)\n",
        "        for im2boxes, color, show_conf, conf_thres in im2boxes_arr:\n",
        "            if frame in im2boxes and im2boxes[frame]:\n",
        "                bbox = im2boxes[frame]\n",
        "                draw_dt_on_np(\n",
        "                    np_img, bbox, conf_thres=conf_thres, color=color, show_coor=True,\n",
        "                    show_count=show_count, show_id=show_id)\n",
        "\n",
        "        if out_size is not None:\n",
        "            h_im, w_im, c_im = np_img.shape\n",
        "            if h_im < (w_im * ratio):\n",
        "                pad = int(((w_im * ratio)- h_im) / 2)\n",
        "                np_img = cv2.copyMakeBorder(np_img, pad, pad, 0, 0, cv2.BORDER_CONSTANT, None, (0, 0, 0))\n",
        "            if w_im < (h_im / ratio):\n",
        "                pad = int(((h_im / ratio) - w_im) / 2)\n",
        "                np_img = cv2.copyMakeBorder(np_img, 0, 0, pad, pad, cv2.BORDER_CONSTANT, None, (0, 0, 0))\n",
        "        vid.write(cv2.resize(np_img[:, :, ::-1], (w, h)))\n",
        "\n",
        "    vid.release()"
      ],
      "metadata": {
        "id": "xl8ygGRGB36H"
      },
      "execution_count": 23,
      "outputs": []
    },
    {
      "cell_type": "code",
      "source": [
        "# Draw the bounding box\n",
        "def draw_dt_on_np(im, detections, print_dt=False, color=(255,0,0),\n",
        "                  conf_thres=0.0, text_size=0.5, **kwargs):\n",
        "    '''\n",
        "    im: image numpy array, shape(h,w,3), RGB\n",
        "    detections: rows of [x,y,w,h,a,conf], angle in degree\n",
        "    '''\n",
        "    line_width = kwargs.get('line_width', im.shape[0] // 300)\n",
        "    font = cv2.FONT_HERSHEY_SIMPLEX\n",
        "    font_bold = max(int(2*text_size), 1)\n",
        "    person_count = 0\n",
        "    for bb in detections:\n",
        "        if len(bb) == 6:\n",
        "            x,y,w,h,a,conf = bb\n",
        "        else:\n",
        "            x,y,w,h,a = bb[:5]\n",
        "            conf = -1\n",
        "        if conf >= conf_thres:\n",
        "            x1, y1 = x - w/2, y - h/2\n",
        "            if print_dt:\n",
        "                print(f'[{x} {y} {w} {h} {a}], confidence: {conf}')\n",
        "            visualization.draw_xywha(im, x, y, w, h, a, color=color, linewidth=line_width)\n",
        "            person_count += 1\n",
        "            if kwargs.get('show_coor', True):\n",
        "                cv2.putText(im, f'{x:.0f},{y:.0f}', (int(x1),int(y1)), font, 1*text_size,\n",
        "                            (255,255,255), font_bold, cv2.LINE_AA)\n",
        "            if kwargs.get('show_angle', False):\n",
        "                cv2.putText(im, f'{int(a)}', (x,y), font, 1*text_size,\n",
        "                            (255,255,255), font_bold, cv2.LINE_AA)\n",
        "    if kwargs.get('show_count', True):\n",
        "        caption_w = int(im.shape[0] / 4.8)\n",
        "        caption_h = im.shape[0] // 25\n",
        "        start = (im.shape[1] - caption_w, im.shape[0] // 20)\n",
        "        end = (im.shape[1], start[1] + caption_h)\n",
        "        cv2.putText(im, f'Count: {person_count}',\n",
        "                    (im.shape[1] - caption_w + im.shape[0]//100, end[1]-im.shape[1]//200),\n",
        "                    font, 1.2*text_size,\n",
        "                    (255,255,255), font_bold*2, cv2.LINE_AA)"
      ],
      "metadata": {
        "id": "BGnuLs4r_M3z"
      },
      "execution_count": 24,
      "outputs": []
    },
    {
      "cell_type": "code",
      "source": [
        "# Create dictionary of bbox based for detected roi with nametag\n",
        "def json2final(json_path, include_ids=False):\n",
        "    with open(json_path) as f:\n",
        "        detections = json.load(f)\n",
        "\n",
        "    if \"annotations\" in detections:\n",
        "        detections = detections[\"annotations\"]\n",
        "\n",
        "    im2detsfinal = {}\n",
        "    for det in detections:\n",
        "        image_id = det['image_id']\n",
        "        image_name = image_id.split(\"_\")[1]\n",
        "        track_id = str(det['track_id'])\n",
        "        if track_id in (id_dict.get(image_name,[])):\n",
        "          bbox = det['bbox'].copy()\n",
        "          score = det['score'] if 'score' in det else 0.0\n",
        "          bbox.append(score)\n",
        "          bbox = np.asarray(bbox)\n",
        "          if image_id in im2detsfinal:\n",
        "              im2detsfinal[image_id].append(bbox)\n",
        "          else:\n",
        "              im2detsfinal[image_id] = [bbox]\n",
        "\n",
        "    return im2detsfinal\n"
      ],
      "metadata": {
        "id": "_VyyBbHgFTuZ"
      },
      "execution_count": 25,
      "outputs": []
    },
    {
      "cell_type": "code",
      "source": [
        "# # Creating dictionary with image id and bbox with nametag\n",
        "im2detsfinal = json2final(json_det_path)\n",
        "\n",
        "# Adding image id without nametag into dictionary\n",
        "directory_path = \"/content/RAPiD-T/examples/sample\"\n",
        "files = os.listdir(directory_path)\n",
        "for file in files:\n",
        "    name = os.path.splitext(file)[0]\n",
        "    if name not in im2detsfinal:\n",
        "      im2detsfinal[name]=[]\n",
        "\n",
        "# Creating video with bounding box around detections\n",
        "im2dets_arrfinal = [(im2detsfinal, (0, 255, 0), False, 0.4)]\n",
        "vid_path = os.path.join(out_path, f\"vids/conf{vid_conf}\", f\"{vid_name}_dets_final.mp4\")\n",
        "print(vid_path)\n",
        "saveVideo(vid_folder, im2dets_arrfinal, vid_path)"
      ],
      "metadata": {
        "colab": {
          "base_uri": "https://localhost:8080/"
        },
        "id": "ob4lrMzTb2eN",
        "outputId": "c4f97f5d-e1b6-4d57-c1f1-1b993548ef69"
      },
      "execution_count": 26,
      "outputs": [
        {
          "output_type": "stream",
          "name": "stdout",
          "text": [
            "outputs/RAPiD_REPP/vids/conf0.3/sample_dets_final.mp4\n"
          ]
        }
      ]
    },
    {
      "cell_type": "markdown",
      "source": [
        "## Utils"
      ],
      "metadata": {
        "id": "9ZuKhVq9Iy5f"
      }
    },
    {
      "cell_type": "code",
      "source": [
        "# Count the number of files in a directory\n",
        "directory_path = \"/content/ROI\"\n",
        "files = os.listdir(directory_path)\n",
        "file_count = len(files)\n",
        "print(file_count)"
      ],
      "metadata": {
        "id": "EKd-psXn5yWj",
        "colab": {
          "base_uri": "https://localhost:8080/"
        },
        "outputId": "3813d25e-1c18-48f6-ff24-db8fb0351c35"
      },
      "execution_count": 21,
      "outputs": [
        {
          "output_type": "stream",
          "name": "stdout",
          "text": [
            "92\n"
          ]
        }
      ]
    },
    {
      "cell_type": "code",
      "source": [
        "# Delete file in a directory\n",
        "import os\n",
        "directory_path = \"/content/ROI\"\n",
        "for filename in os.listdir(directory_path):\n",
        "    file_path = os.path.join(directory_path, filename)\n",
        "    if os.path.isfile(file_path):\n",
        "        os.remove(file_path)"
      ],
      "metadata": {
        "id": "aaOliih6xrdK"
      },
      "execution_count": 133,
      "outputs": []
    },
    {
      "cell_type": "code",
      "source": [
        "# Compute the frame number of certain time\n",
        "import cv2\n",
        "\n",
        "# Open the video file\n",
        "video_path = '/content/sample.mp4'  # Replace with the actual path to your video file\n",
        "cap = cv2.VideoCapture(video_path)\n",
        "\n",
        "# Get the total number of frames and frames per second (FPS)\n",
        "total_frames = int(cap.get(cv2.CAP_PROP_FRAME_COUNT))\n",
        "fps = cap.get(cv2.CAP_PROP_FPS)\n",
        "\n",
        "# Calculate the frame number\n",
        "time_in_seconds = 15\n",
        "frame_number = int(time_in_seconds * fps)\n",
        "\n",
        "# Ensure the frame number is within the valid range\n",
        "frame_number = max(1, min(frame_number, total_frames))\n",
        "\n",
        "# Print the frame number at the 15-second mark\n",
        "print(f\"The frame number at 15 seconds is: {frame_number}\")\n",
        "\n",
        "# Release the video capture object\n",
        "cap.release()"
      ],
      "metadata": {
        "colab": {
          "base_uri": "https://localhost:8080/"
        },
        "id": "m8Fv1vey2zHw",
        "outputId": "cb8db326-7d7d-4db3-9d05-6b2258bfcb47"
      },
      "execution_count": 64,
      "outputs": [
        {
          "output_type": "stream",
          "name": "stdout",
          "text": [
            "The frame number at 15 seconds is: 375\n"
          ]
        }
      ]
    },
    {
      "cell_type": "code",
      "source": [
        "# Plot the HSV value of image\n",
        "\n",
        "import cv2\n",
        "import numpy as np\n",
        "import matplotlib.pyplot as plt\n",
        "\n",
        "# Load the image\n",
        "image = cv2.imread('/content/sample_000379_254.png')  # Replace with the path to your image\n",
        "\n",
        "# Convert the image to the HSV color space\n",
        "hsv_image = cv2.cvtColor(image, cv2.COLOR_BGR2HSV)\n",
        "\n",
        "# Split the HSV image into separate channels\n",
        "hue_channel = hsv_image[:, :, 0]\n",
        "saturation_channel = hsv_image[:, :, 1]\n",
        "value_channel = hsv_image[:, :, 2]\n",
        "\n",
        "# Display the hue, saturation, and value channels\n",
        "fig, axs = plt.subplots(1, 3, figsize=(12, 4))\n",
        "\n",
        "# Display hue channel with color bar\n",
        "hue_img = axs[0].imshow(hue_channel, cmap='hsv', vmin=0, vmax=179)\n",
        "axs[0].set_title('Hue Channel')\n",
        "cbar1 = plt.colorbar(hue_img, ax=axs[0])\n",
        "cbar1.set_label('Hue')\n",
        "\n",
        "# Display saturation channel with color bar\n",
        "saturation_img = axs[1].imshow(saturation_channel, cmap='gray', vmin=0, vmax=255)\n",
        "axs[1].set_title('Saturation Channel')\n",
        "cbar2 = plt.colorbar(saturation_img, ax=axs[1])\n",
        "cbar2.set_label('Saturation')\n",
        "\n",
        "# Display value channel with color bar\n",
        "value_img = axs[2].imshow(value_channel, cmap='gray', vmin=0, vmax=255)\n",
        "axs[2].set_title('Value Channel')\n",
        "cbar3 = plt.colorbar(value_img, ax=axs[2])\n",
        "cbar3.set_label('Value')\n",
        "\n",
        "plt.tight_layout()\n",
        "plt.show()"
      ],
      "metadata": {
        "colab": {
          "base_uri": "https://localhost:8080/",
          "height": 427
        },
        "id": "589mBIaPVcJM",
        "outputId": "2e467803-d568-413d-d723-9938c73805be"
      },
      "execution_count": null,
      "outputs": [
        {
          "output_type": "display_data",
          "data": {
            "text/plain": [
              "<Figure size 1200x400 with 6 Axes>"
            ],
            "image/png": "[encoded data removed]"
          },
          "metadata": {}
        }
      ]
    },
    {
      "cell_type": "code",
      "source": [
        "import matplotlib.pyplot as plt\n",
        "\n",
        "# Load the image\n",
        "image = plt.imread(\"/content/ROI /sample_000200_106.png\")\n",
        "\n",
        "# Define the coordinates\n",
        "x = 735\n",
        "y = 371\n",
        "\n",
        "# Plot the coordinate on the image\n",
        "plt.imshow(image)\n",
        "plt.scatter(x, y, color='red', s=10)\n",
        "plt.show()"
      ],
      "metadata": {
        "id": "AHbbaTblx1Bj"
      },
      "execution_count": null,
      "outputs": []
    }
  ]
}